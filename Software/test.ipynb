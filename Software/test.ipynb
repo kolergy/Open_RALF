{
 "cells": [
  {
   "cell_type": "code",
   "execution_count": 5,
   "metadata": {},
   "outputs": [],
   "source": [
    "import requests\n",
    "import time\n"
   ]
  },
  {
   "cell_type": "code",
   "execution_count": 6,
   "metadata": {},
   "outputs": [
    {
     "name": "stdout",
     "output_type": "stream",
     "text": [
      "<Response [200]>\n"
     ]
    }
   ],
   "source": [
    "\n",
    "zones        = (1,)\n",
    "api_pre_url  = 'http://lavoix.artilect:3900/speak?text='\n",
    "zone_url = '&zones[]='\n",
    "message      = 'le Fablab vous dit bonjour'\n",
    "api_post_url = ''\n",
    "for z in zones: api_post_url += zone_url + str(z)\n",
    "api_url      = api_pre_url + message + api_post_url\n",
    "\n",
    "response = requests.get(api_url)\n",
    "\n",
    "print(response)"
   ]
  },
  {
   "cell_type": "code",
   "execution_count": 4,
   "metadata": {},
   "outputs": [
    {
     "name": "stdout",
     "output_type": "stream",
     "text": [
      "le python aime bien\n",
      "parler dans la voie dartilect\n",
      "3\n"
     ]
    },
    {
     "ename": "TypeError",
     "evalue": "can only concatenate str (not \"int\") to str",
     "output_type": "error",
     "traceback": [
      "\u001b[0;31m---------------------------------------------------------------------------\u001b[0m",
      "\u001b[0;31mTypeError\u001b[0m                                 Traceback (most recent call last)",
      "Cell \u001b[0;32mIn [4], line 7\u001b[0m\n\u001b[1;32m      5\u001b[0m \u001b[39mfor\u001b[39;00m m, z \u001b[39min\u001b[39;00m messages: \n\u001b[1;32m      6\u001b[0m   \u001b[39mprint\u001b[39m(m)\n\u001b[0;32m----> 7\u001b[0m   api_url  \u001b[39m=\u001b[39m api_pre_url \u001b[39m+\u001b[39;49m m \u001b[39m+\u001b[39m zone_url \u001b[39m+\u001b[39m \u001b[39mstr\u001b[39m(z)\n\u001b[1;32m      8\u001b[0m   response \u001b[39m=\u001b[39m requests\u001b[39m.\u001b[39mget(api_url)\n\u001b[1;32m      9\u001b[0m   time\u001b[39m.\u001b[39msleep(\u001b[39m6\u001b[39m)\n",
      "\u001b[0;31mTypeError\u001b[0m: can only concatenate str (not \"int\") to str"
     ]
    }
   ],
   "source": [
    "\n",
    "\n",
    "\n",
    "messages = ( {'le python aime bien', 1}, \\\n",
    "             {'parler dans la voie dartilect', 2}, \\\n",
    "             {'et en plus en tournant dans les pieces', 3} )\n",
    "api_pre_url  = 'http://lavoix.artilect:3900/speak?text='\n",
    "zone_url     = '&zones[]='\n",
    "for m, z in messages: \n",
    "  print(m)\n",
    "  api_url  = api_pre_url + m + zone_url + str(z)\n",
    "  response = requests.get(api_url)\n",
    "  time.sleep(6)\n",
    "\n"
   ]
  },
  {
   "cell_type": "code",
   "execution_count": null,
   "metadata": {},
   "outputs": [],
   "source": []
  }
 ],
 "metadata": {
  "kernelspec": {
   "display_name": "Python 3.9.13 ('base')",
   "language": "python",
   "name": "python3"
  },
  "language_info": {
   "codemirror_mode": {
    "name": "ipython",
    "version": 3
   },
   "file_extension": ".py",
   "mimetype": "text/x-python",
   "name": "python",
   "nbconvert_exporter": "python",
   "pygments_lexer": "ipython3",
   "version": "3.9.13"
  },
  "orig_nbformat": 4,
  "vscode": {
   "interpreter": {
    "hash": "6f29800ab31653083d876e675fda4d1d485d329939c3e38e2e19ff08b94d97a7"
   }
  }
 },
 "nbformat": 4,
 "nbformat_minor": 2
}
